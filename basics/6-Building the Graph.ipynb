{
 "cells": [
  {
   "cell_type": "markdown",
   "metadata": {},
   "source": [
    "### Building the Graph"
   ]
  },
  {
   "cell_type": "markdown",
   "metadata": {},
   "source": [
    "1）variable： 用于存储两个变量\n",
    "   训练次数 （不参与训练）\n",
    "   output\n",
    "   \n",
    "2）transformation： 对输入参数进行变形\n",
    "   采用 placeholder\n",
    "\n",
    "3）update： 更新的规律\n",
    "\n",
    "4）summary 用于 tensor board scalars\n",
    "\n",
    "5）global_operations \n",
    "   初始化参数\n",
    "   merge summary"
   ]
  },
  {
   "cell_type": "code",
   "execution_count": 14,
   "metadata": {},
   "outputs": [],
   "source": [
    "import tensorflow as tf\n",
    "import numpy as np"
   ]
  },
  {
   "cell_type": "code",
   "execution_count": 15,
   "metadata": {},
   "outputs": [],
   "source": [
    "#创建一个新的Graph/非必须，可用默认：\n",
    "jimmy_graph=tf.Graph()"
   ]
  },
  {
   "cell_type": "code",
   "execution_count": 16,
   "metadata": {},
   "outputs": [],
   "source": [
    "with jimmy_graph.as_default():\n",
    "    #使用name_scope，实现层次化管理\n",
    "    with tf.name_scope('variables'):\n",
    "        #变量表示graph运行的次数\n",
    "        global_step=tf.Variable(0,dtype=tf.int32,trainable=False,name='global_step')\n",
    "        #变量表示输出的总和\n",
    "        total_outputs=tf.Variable(0,dtype=tf.float32,trainable=False,name='total_outputs')\n",
    "    \n",
    "    # This name scope contains varibales for transformation\n",
    "    with tf.name_scope('transformation'):\n",
    "        #input name scope\n",
    "        with tf.name_scope('input'):\n",
    "            a=tf.placeholder(tf.float32,shape=(None),name='input_placeholder_a')\n",
    "        #middle name scope\n",
    "        with tf.name_scope('middle'):\n",
    "            b=tf.reduce_prod(a,name='production_b')\n",
    "            c=tf.reduce_sum(a,name='sum_c')\n",
    "        #output name scope\n",
    "        with tf.name_scope('output'):\n",
    "            output=tf.add(b,c,name='output')\n",
    "    #This name scope used to update variables    \n",
    "    with tf.name_scope('update'):\n",
    "        #add output to total_outputs\n",
    "        update_total=total_outputs.assign_add(output)\n",
    "        total_step=global_step.assign_add(1)\n",
    "        \n",
    "    #This name scope create tensorboard summaries\n",
    "    with tf.name_scope('summaries'):\n",
    "        average=tf.div(update_total,tf.cast(total_step,tf.float32),name='average')\n",
    "        tf.summary.scalar('output_summary',output)\n",
    "        tf.summary.scalar ('total_summary',update_total)\n",
    "        tf.summary.scalar ('average_summary',average)\n",
    "    \n",
    "    with tf.name_scope('global_opeartion'):\n",
    "        #初始化\n",
    "        init=tf.global_variables_initializer()\n",
    "        #合并所有summary\n",
    "        merged_summaries=tf.summary.merge_all()    "
   ]
  },
  {
   "cell_type": "code",
   "execution_count": 17,
   "metadata": {},
   "outputs": [],
   "source": [
    "sess=tf.Session(graph=jimmy_graph)"
   ]
  },
  {
   "cell_type": "code",
   "execution_count": 18,
   "metadata": {},
   "outputs": [],
   "source": [
    "summary_writer=tf.summary.FileWriter('./jimmy_graph',sess.graph)\n",
    "sess.run(init)"
   ]
  },
  {
   "cell_type": "code",
   "execution_count": 31,
   "metadata": {},
   "outputs": [],
   "source": [
    "def run_graph(input_tensor):\n",
    "    feed_dict={a:input_tensor}\n",
    "    _,step,summary=sess.run([output,total_step,merged_summaries],feed_dict=feed_dict)\n",
    "    summary_writer.add_summary(summary,global_step=step)\n",
    "    summary_writer.add_graph(sess.graph)"
   ]
  },
  {
   "cell_type": "code",
   "execution_count": 32,
   "metadata": {},
   "outputs": [],
   "source": [
    "run_graph([2,8])"
   ]
  },
  {
   "cell_type": "code",
   "execution_count": 33,
   "metadata": {},
   "outputs": [],
   "source": [
    "# Call this method to make sure that all pending events have been written to disk.\n",
    "summary_writer.flush()"
   ]
  },
  {
   "cell_type": "code",
   "execution_count": 34,
   "metadata": {},
   "outputs": [],
   "source": [
    "summary_writer.close()\n",
    "sess.close()"
   ]
  },
  {
   "cell_type": "code",
   "execution_count": 35,
   "metadata": {},
   "outputs": [
    {
     "name": "stdout",
     "output_type": "stream",
     "text": [
      "versions {\n",
      "  producer: 26\n",
      "}\n",
      "\n"
     ]
    }
   ],
   "source": [
    "print (tf.get_default_graph().as_graph_def())"
   ]
  },
  {
   "cell_type": "markdown",
   "metadata": {},
   "source": [
    "![avait](https://imgsa.baidu.com/forum/w%3D580/sign=a23356fd3a7adab43dd01b4bbbd5b36b/d216b926cffc1e17d0a869e44690f603728de914.jpg)"
   ]
  },
  {
   "cell_type": "code",
   "execution_count": null,
   "metadata": {},
   "outputs": [],
   "source": []
  }
 ],
 "metadata": {
  "kernelspec": {
   "display_name": "Python 3",
   "language": "python",
   "name": "python3"
  },
  "language_info": {
   "codemirror_mode": {
    "name": "ipython",
    "version": 3
   },
   "file_extension": ".py",
   "mimetype": "text/x-python",
   "name": "python",
   "nbconvert_exporter": "python",
   "pygments_lexer": "ipython3",
   "version": "3.6.5"
  }
 },
 "nbformat": 4,
 "nbformat_minor": 2
}
