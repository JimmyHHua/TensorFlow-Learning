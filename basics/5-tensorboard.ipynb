{
 "cells": [
  {
   "cell_type": "code",
   "execution_count": 1,
   "metadata": {},
   "outputs": [
    {
     "name": "stdout",
     "output_type": "stream",
     "text": [
      "Tensor(\"add_e:0\", shape=(), dtype=int32)\n"
     ]
    }
   ],
   "source": [
    "import tensorflow as tf\n",
    "a=tf.constant(1,name=\"input_a\")\n",
    "b=tf.constant(2,name=\"input_b\")\n",
    "c=tf.multiply(a,b, name=\"mul_c\")\n",
    "d=tf.multiply(a,b, name='mul_d')\n",
    "e=tf.add(c,d, name='add_e')\n",
    "print(e)\n",
    "sess=tf.Session()\n",
    "sess.run(e)\n",
    "writer=tf.summary.FileWriter(\"./my_graph\",sess.graph)"
   ]
  },
  {
   "cell_type": "code",
   "execution_count": null,
   "metadata": {},
   "outputs": [],
   "source": [
    "!tensorboard --logdir='./my_graph'"
   ]
  },
  {
   "cell_type": "code",
   "execution_count": 1,
   "metadata": {},
   "outputs": [],
   "source": [
    "import tensorflow as tf\n",
    "\n",
    "with tf.name_scope(\"A\"):\n",
    "    \n",
    "    a=tf.add(1,2, name='a')\n",
    "    b=tf.multiply(2,4, name='b')\n",
    "\n",
    "with tf.name_scope(\"B\"):\n",
    "    \n",
    "    c=tf.add(2,2, name='c')\n",
    "    d=tf.multiply(3,4, name='d')\n",
    "\n",
    "with tf.name_scope(\"output\"):\n",
    "    e= tf.add(b,c)\n",
    "\n",
    "sess=tf.Session()\n",
    "sess.run(e)\n",
    "writer=tf.summary.FileWriter('./name_scope_example',sess.graph)\n",
    "writer.close()\n",
    "sess.close()"
   ]
  },
  {
   "cell_type": "markdown",
   "metadata": {},
   "source": [
    "![avatar](https://imgsa.baidu.com/forum/w%3D580/sign=04d5d8fa4d34970a47731027a5cbd1c0/40b688de9c82d15860b949648c0a19d8bd3e426f.jpg)"
   ]
  },
  {
   "cell_type": "code",
   "execution_count": null,
   "metadata": {},
   "outputs": [],
   "source": []
  }
 ],
 "metadata": {
  "kernelspec": {
   "display_name": "Python 3",
   "language": "python",
   "name": "python3"
  },
  "language_info": {
   "codemirror_mode": {
    "name": "ipython",
    "version": 3
   },
   "file_extension": ".py",
   "mimetype": "text/x-python",
   "name": "python",
   "nbconvert_exporter": "python",
   "pygments_lexer": "ipython3",
   "version": "3.6.5"
  }
 },
 "nbformat": 4,
 "nbformat_minor": 2
}
